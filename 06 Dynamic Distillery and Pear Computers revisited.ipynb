{
 "cells": [
  {
   "cell_type": "markdown",
   "metadata": {},
   "source": [
    "# Dynamic Distillery and Pear Computers, revisited"
   ]
  },
  {
   "cell_type": "markdown",
   "metadata": {},
   "source": [
    "Place any setup code that you need (e.g. `import` statements) in the cell below."
   ]
  },
  {
   "cell_type": "code",
   "execution_count": null,
   "metadata": {},
   "outputs": [],
   "source": []
  },
  {
   "cell_type": "markdown",
   "metadata": {},
   "source": [
    "## Dynamic Distillery"
   ]
  },
  {
   "cell_type": "markdown",
   "metadata": {},
   "source": [
    "You have been put in charge of launching Dynamic Distillery's new bourbon whiskey. There are 4 nonoverlapping phases: research, development, manufacturing system design, and initial production and distribution. Each phase can conducted the two speeds: normal or priority. The times required (in months) to complete each phases at the two speeds are:\n",
    "\n",
    "| Level    | Research | Development | Manufacturing System Design | Initial Production and Distribution |\n",
    "|:---------|:---------|:------------|:----------------------------|:------------------------------------|\n",
    "| Normal   | 4        | 3           | 5                           | 2                                   |\n",
    "| Priority | 2        | 2           | 3                           | 1                                   |\n",
    "\n",
    "The costs (in millions of \\$) of complete each phase at the two speeds are:\n",
    "\n",
    "| Level    | Research | Development | Manufacturing System Design | Initial Production and Distribution |\n",
    "|:---------|:---------|:------------|:----------------------------|:------------------------------------|\n",
    "| Normal   | 2        | 2           | 3                           | 1                                   |\n",
    "| Priority | 3        | 3           | 4                           | 2                                   |\n",
    "\n",
    "You have been given \\$10 million dollars to execute the launch as quickly as possible. \n",
    "\n",
    "Once upon a time, for homework, you formulated this problem as a dynamic program by giving its shortest/longest path representation.\n",
    "\n",
    "1. Solve your dynamic program using `networkx`.\n",
    "2. Interpret the output of your dynamic program."
   ]
  },
  {
   "cell_type": "code",
   "execution_count": null,
   "metadata": {},
   "outputs": [],
   "source": [
    "# Write your code here\n"
   ]
  },
  {
   "cell_type": "markdown",
   "metadata": {},
   "source": [
    "_Write your notes here. Double-click to edit._"
   ]
  },
  {
   "cell_type": "markdown",
   "metadata": {},
   "source": [
    "## Pear Computers"
   ]
  },
  {
   "cell_type": "markdown",
   "metadata": {},
   "source": [
    "Pear Computers has a contract to deliver the following number of laptop computers during the next three months:\n",
    "\n",
    "|                           | Month 1 | Month 2 | Month 3 |\n",
    "|:--------------------------|:--------|:--------|:--------|\n",
    "| Laptop computers required | 200     | 300     | 200     |\n",
    "\n",
    "For each laptop produced during months 1 and 2, a \\$100 cost is incurred; for each laptop produced during month 3, a \\$120 cost is incurred. Each month in which the company produces laptops requires a factory setup cost of \\$2,500. Laptops can be held in a warehouse at a cost of \\$15 for each laptop in inventory at the end of a month. The warehouse can hold at most 400 laptops. \n",
    "\n",
    "Laptops made during a month may be used to meet demand for that month or any future month. Manufacturing constraints require that laptops be produced in multiples of 100, and at most 300 laptops can be produced in any month.  The company's goal is to find a production plan that will meet all demands on time and minimizes its total production and holding costs over the next 3 months.\n",
    "\n",
    "Formulate this problem as a dynamic program by giving its shortest/longest path representation.\n",
    "\n",
    "Once upon a time, for homework, you formulated this problem as a dynamic program by giving its shortest/longest path representation.\n",
    "\n",
    "1. Solve your dynamic program using `networkx`.\n",
    "2. Interpret the output of your dynamic program."
   ]
  },
  {
   "cell_type": "code",
   "execution_count": null,
   "metadata": {},
   "outputs": [],
   "source": [
    "# Write your code here\n"
   ]
  },
  {
   "cell_type": "markdown",
   "metadata": {},
   "source": [
    "_Write your notes here. Double-click to edit._"
   ]
  }
 ],
 "metadata": {
  "kernelspec": {
   "display_name": "Python 3",
   "language": "python",
   "name": "python3"
  },
  "language_info": {
   "codemirror_mode": {
    "name": "ipython",
    "version": 3
   },
   "file_extension": ".py",
   "mimetype": "text/x-python",
   "name": "python",
   "nbconvert_exporter": "python",
   "pygments_lexer": "ipython3",
   "version": "3.6.4"
  }
 },
 "nbformat": 4,
 "nbformat_minor": 1
}
