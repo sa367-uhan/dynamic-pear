{
 "cells": [
  {
   "cell_type": "markdown",
   "metadata": {},
   "source": [
    "# Dynamic Distillery and Pear Computers, revisited"
   ]
  },
  {
   "cell_type": "markdown",
   "metadata": {},
   "source": [
    "Place any setup code that you need (e.g. `import` statements) in the cell below."
   ]
  },
  {
   "cell_type": "code",
   "execution_count": null,
   "metadata": {
    "collapsed": true
   },
   "outputs": [],
   "source": [
    "import networkx as nx\n",
    "import bellmanford as bf"
   ]
  },
  {
   "cell_type": "markdown",
   "metadata": {},
   "source": [
    "## Dynamic Distillery"
   ]
  },
  {
   "cell_type": "markdown",
   "metadata": {},
   "source": [
    "You have been put in charge of launching Dynamic Distillery's new bourbon whiskey. There are 4 nonoverlapping phases: research, development, manufacturing system design, and initial production and distribution. Each phase can conducted the two speeds: normal or priority. The times required (in months) to complete each phases at the two speeds are:\n",
    "\n",
    "| Level    | Research | Development | Manufacturing System Design | Initial Production and Distribution |\n",
    "|:---------|:---------|:------------|:----------------------------|:------------------------------------|\n",
    "| Normal   | 4        | 3           | 5                           | 2                                   |\n",
    "| Priority | 2        | 2           | 3                           | 1                                   |\n",
    "\n",
    "The costs (in millions of \\$) of complete each phase at the two speeds are:\n",
    "\n",
    "| Level    | Research | Development | Manufacturing System Design | Initial Production and Distribution |\n",
    "|:---------|:---------|:------------|:----------------------------|:------------------------------------|\n",
    "| Normal   | 2        | 2           | 3                           | 1                                   |\n",
    "| Priority | 3        | 3           | 4                           | 2                                   |\n",
    "\n",
    "You have been given \\$10 million dollars to execute the launch as quickly as possible. \n",
    "\n",
    "Once upon a time, for homework, you formulated this problem as a dynamic program by giving its shortest/longest path representation.\n",
    "\n",
    "1. Solve your dynamic program using `networkx`.\n",
    "2. Interpret the output of your dynamic program."
   ]
  },
  {
   "cell_type": "code",
   "execution_count": null,
   "metadata": {
    "collapsed": false
   },
   "outputs": [],
   "source": [
    "# Write your code here\n",
    "# Create empty graph\n",
    "G = nx.DiGraph()\n",
    "\n",
    "# Add stage-state nodes\n",
    "for t in range(1, 6):\n",
    "    for n in range(0, 11):\n",
    "        G.add_node((t, n))\n",
    "\n",
    "# Add \"end\" node\n",
    "G.add_node(\"end\")\n",
    "\n",
    "# Stage 1 at normal speed\n",
    "for n in range(2, 11):\n",
    "    G.add_edge((1, n), (2, n - 2), length=4)\n",
    "\n",
    "# Stage 1 at priority speed\n",
    "for n in range(3, 11):\n",
    "    G.add_edge((1, n), (2, n - 3), length=2)\n",
    "\n",
    "# Stage 2 at normal speed\n",
    "for n in range(2, 11):\n",
    "    G.add_edge((2, n), (3, n - 2), length=3)\n",
    "\n",
    "# Stage 2 at priority speed\n",
    "for n in range(3, 11):\n",
    "    G.add_edge((2, n), (3, n - 3), length=2)\n",
    "\n",
    "# Stage 3 at normal speed\n",
    "for n in range(3, 11):\n",
    "    G.add_edge((3, n), (4, n - 3), length=5)\n",
    "\n",
    "# Stage 3 at priority speed\n",
    "for n in range(4, 11):\n",
    "    G.add_edge((3, n), (4, n - 4), length=3)\n",
    "\n",
    "# Stage 4 at normal speed\n",
    "for n in range(1, 11):\n",
    "    G.add_edge((4, n), (5, n - 1), length=2)\n",
    "\n",
    "# Stage 4 at priority speed\n",
    "for n in range(2, 10):\n",
    "    G.add_edge((4, n), (5, n - 2), length=1)\n",
    "\n",
    "# Add edges from last stage to end node\n",
    "for n in range(0, 11):\n",
    "    G.add_edge((5, n), \"end\", length=0)\n",
    "\n",
    "# Solve shortest path problem\n",
    "length, nodes, negative_cycle = bf.bellman_ford(G, source=(1, 10), target=\"end\", weight=\"length\")\n",
    "print(\"Negative cycle? {0}\".format(negative_cycle))\n",
    "print(\"Shortest path length = {0}\".format(length))\n",
    "print(\"Shortest path = {0}\".format(nodes))"
   ]
  },
  {
   "cell_type": "markdown",
   "metadata": {},
   "source": [
    "<!-- _Write your notes here. Double-click to edit._ -->\n",
    "* The earliest the launch can happen is in 10 weeks, which is the shortest path length in this case.\n",
    "\n",
    "* In order to launch in 10 weeks, research and manufacturing system design should be done at the priority speed, while development and inital production and distribution should be done at normal speed."
   ]
  },
  {
   "cell_type": "markdown",
   "metadata": {},
   "source": [
    "## Pear Computers"
   ]
  },
  {
   "cell_type": "markdown",
   "metadata": {},
   "source": [
    "Pear Computers has a contract to deliver the following number of laptop computers during the next three months:\n",
    "\n",
    "|                           | Month 1 | Month 2 | Month 3 |\n",
    "|:--------------------------|:--------|:--------|:--------|\n",
    "| Laptop computers required | 200     | 300     | 200     |\n",
    "\n",
    "For each laptop produced during months 1 and 2, a \\$100 cost is incurred; for each laptop produced during month 3, a \\$120 cost is incurred. Each month in which the company produces laptops requires a factory setup cost of \\$2,500. Laptops can be held in a warehouse at a cost of \\$15 for each laptop in inventory at the end of a month. The warehouse can hold at most 400 laptops. \n",
    "\n",
    "Laptops made during a month may be used to meet demand for that month or any future month. Manufacturing constraints require that laptops be produced in multiples of 100, and at most 300 laptops can be produced in any month.  The company's goal is to find a production plan that will meet all demands on time and minimizes its total production and holding costs over the next 3 months.\n",
    "\n",
    "Formulate this problem as a dynamic program by giving its shortest/longest path representation.\n",
    "\n",
    "Once upon a time, for homework, you formulated this problem as a dynamic program by giving its shortest/longest path representation.\n",
    "\n",
    "1. Solve your dynamic program using `networkx`.\n",
    "2. Interpret the output of your dynamic program."
   ]
  },
  {
   "cell_type": "code",
   "execution_count": null,
   "metadata": {
    "collapsed": false
   },
   "outputs": [],
   "source": [
    "# Write your code here\n",
    "# Create empty graph\n",
    "G = nx.DiGraph()\n",
    "\n",
    "# Add stage-state nodes\n",
    "for t in range(1, 5):\n",
    "    for n in range(0, 5):\n",
    "        G.add_node((t, n))\n",
    "\n",
    "# Add \"end\" node\n",
    "G.add_node(\"end\")\n",
    "\n",
    "# Month 1\n",
    "# Production amount = 0\n",
    "for n in range(2, 5):\n",
    "    G.add_edge((1, n), (2, n - 2), length=15*100*(n - 2))\n",
    "\n",
    "# Production amount = 100\n",
    "for n in range(1, 5):\n",
    "    G.add_edge((1, n), (2, n - 1), length=2500 + 100*100 + 15*100*(n - 1))\n",
    "\n",
    "# Production amount = 200\n",
    "for n in range(0, 5):\n",
    "    G.add_edge((1, n), (2, n), length=2500 + 100*200 + 15*100*n)\n",
    "\n",
    "# Production amount = 300\n",
    "for n in range(0, 4):\n",
    "    G.add_edge((1, n), (2, n + 1), length=2500 + 100*300 + 15*100*(n + 1))\n",
    "\n",
    "# Month 2\n",
    "# Production amount = 0\n",
    "for n in range(3, 5):\n",
    "    G.add_edge((2, n), (3, n - 3), length=15*100*(n - 3))\n",
    "\n",
    "# Production amount = 100\n",
    "for n in range(2, 5):\n",
    "    G.add_edge((2, n), (3, n - 2), length=2500 + 100*100 + 15*100*(n - 2))\n",
    "\n",
    "# Production amount = 200\n",
    "for n in range(1, 5):\n",
    "    G.add_edge((2, n), (3, n - 1), length=2500 + 100*200 + 15*100*(n - 1))\n",
    "\n",
    "# Production amount = 300\n",
    "for n in range(0, 5):\n",
    "    G.add_edge((2, n), (3, n), length=2500 + 100*300 + 15*100*n)\n",
    "\n",
    "# Month 3\n",
    "# Production amount = 0\n",
    "for n in range(2, 5):\n",
    "    G.add_edge((3, n), (4, n - 2), length=15*100*(n - 2))\n",
    "\n",
    "# Production amount = 100\n",
    "for n in range(1, 5):\n",
    "    G.add_edge((3, n), (4, n - 1), length=2500 + 120*100 + 15*100*(n - 1))\n",
    "\n",
    "# Production amount = 200\n",
    "for n in range(0, 5):\n",
    "    G.add_edge((3, n), (4, n), length=2500 + 120*200 + 15*100*n)\n",
    "\n",
    "# Production amount = 300\n",
    "for n in range(0, 4):\n",
    "    G.add_edge((3, n), (4, n + 1), length=2500 + 120*300 + 15*100*(n + 1))\n",
    "\n",
    "# Add edges from last stage to end node\n",
    "for n in range(0, 5):\n",
    "    G.add_edge((4, n), \"end\", length=0)\n",
    "\n",
    "# Solve shortest path problem\n",
    "length, nodes, negative_cycle = bf.bellman_ford(G, source=(1,0), target=\"end\", weight=\"length\")\n",
    "print(\"Negative cycle? {0}\".format(negative_cycle))\n",
    "print(\"Shortest path length = {0}\".format(length))\n",
    "print(\"Shortest path = {0}\".format(nodes))"
   ]
  },
  {
   "cell_type": "markdown",
   "metadata": {},
   "source": [
    "<!-- _Write your notes here. Double-click to edit._ -->\n",
    "* The minimum production and holding cost required to meet demand over the next 3 months is 81,500, which is the shortest path length in this case.\n",
    "\n",
    "* In order to meet this minimum total cost, the company should produce 200 in month 1, produce 300 in month 2, and produce 200 in month 3."
   ]
  }
 ],
 "metadata": {
  "kernelspec": {
   "display_name": "Python 3",
   "language": "python",
   "name": "python3"
  },
  "language_info": {
   "codemirror_mode": {
    "name": "ipython",
    "version": 3
   },
   "file_extension": ".py",
   "mimetype": "text/x-python",
   "name": "python",
   "nbconvert_exporter": "python",
   "pygments_lexer": "ipython3",
   "version": "3.5.2"
  }
 },
 "nbformat": 4,
 "nbformat_minor": 0
}
